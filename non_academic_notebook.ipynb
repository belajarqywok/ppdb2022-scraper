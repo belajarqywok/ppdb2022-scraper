{
 "cells": [
  {
   "cell_type": "markdown",
   "metadata": {},
   "source": [
    "<h1>scrape ppdb datas and\n",
    "rank schools with\n",
    "the best scores</h1>\n",
    "\n",
    "<h4><b>Follow : </b></h4>\n",
    "<ul><h4><b>@otw.mastah</b></h4></ul>\n",
    "<ul><h4><b>@qywok_exploiter_357</b></h4></ul>\n",
    "\n",
    "<br>"
   ]
  },
  {
   "cell_type": "code",
   "execution_count": null,
   "metadata": {},
   "outputs": [],
   "source": [
    "import os\n",
    "import scipy as sp\n",
    "import numpy as np\n",
    "import pandas as pd\n",
    "from matplotlib import pyplot as plt"
   ]
  },
  {
   "cell_type": "markdown",
   "metadata": {},
   "source": [
    "<br>\n",
    "<hr>\n",
    "<br>\n",
    "<br>\n",
    "<br>\n",
    "<h2>Non-Academic Achievements</h2>\n",
    "<br>"
   ]
  },
  {
   "cell_type": "markdown",
   "metadata": {},
   "source": [
    "<ul><li><h4>Read Non-Academic Achievement CSV File</h4></li></ul>"
   ]
  },
  {
   "cell_type": "code",
   "execution_count": null,
   "metadata": {},
   "outputs": [],
   "source": [
    "non_academic_profiles = pd.read_csv('datasets/smp/prestasi_non-akademik/profiles.csv', index_col=0)"
   ]
  },
  {
   "cell_type": "markdown",
   "metadata": {},
   "source": [
    "<br>\n",
    "<br>\n",
    "<ul><li><h4>Info On Non-Academic Achievement School Datas</h4></li></ul>"
   ]
  },
  {
   "cell_type": "code",
   "execution_count": null,
   "metadata": {
    "scrolled": true
   },
   "outputs": [],
   "source": [
    "print(\"\\n\\n--------------- [ Info ] -------------\\n\\n\")\n",
    "print(non_academic_profiles.info())\n",
    "\n",
    "print(\"\\n\\n--------------- [ Columns ] -------------\\n\\n\")\n",
    "print(non_academic_profiles.columns)\n",
    "\n",
    "print(\"\\n\\n--------------- [ Data Types ] -------------\\n\\n\")\n",
    "print(non_academic_profiles.dtypes)\n",
    "\n",
    "print(\"\\n\\n--------------- [ Head ] -------------\\n\\n\")\n",
    "print(non_academic_profiles.head(10))\n",
    "\n",
    "print(\"\\n\\n--------------- [ Tail ] -------------\\n\\n\")\n",
    "print(non_academic_profiles.tail(10))\n",
    "\n",
    "print(\"\\n\\n--------------- [ Capacity ] -------------\\n\\n\")\n",
    "print(f'Max_Value          : {non_academic_profiles.max()[\"jml_pagu\"]}')\n",
    "print(f'Min_Value          : {non_academic_profiles.min()[\"jml_pagu\"]}')\n",
    "print(f'Mean_Value         : {non_academic_profiles.mean()[\"jml_pagu\"]}')\n",
    "print(f'Standard Deviation : {non_academic_profiles.std()[\"jml_pagu\"]}')\n",
    "\n",
    "non_academic_profiles_values = non_academic_profiles.values\n",
    "\n",
    "print(\"\\n\\n--------------- [ Values ] -------------\\n\\n\")\n",
    "print(non_academic_profiles_values)"
   ]
  },
  {
   "cell_type": "markdown",
   "metadata": {},
   "source": [
    "<br>\n",
    "<br>\n",
    "<ul><li><h4>Non-Academic Achievement School Data Frame</h4></li></ul>"
   ]
  },
  {
   "cell_type": "code",
   "execution_count": null,
   "metadata": {},
   "outputs": [],
   "source": [
    "pd.DataFrame(non_academic_profiles)"
   ]
  },
  {
   "cell_type": "markdown",
   "metadata": {},
   "source": [
    "<br>\n",
    "<br>\n",
    "<ul><li><h4>Determine The Capacity Of Non-Academic Students In Each Administrative City</h4></li></ul>"
   ]
  },
  {
   "cell_type": "code",
   "execution_count": null,
   "metadata": {
    "scrolled": false
   },
   "outputs": [],
   "source": [
    "print(\"\\n[ Determine The Capacity Of Non-Academic Students In Each Administrative City ]\")\n",
    "\n",
    "city_name = [\n",
    "    \"Kota Jakarta Timur\",\n",
    "    \"Kota Jakarta Barat\",\n",
    "    \"Kota Jakarta Selatan\",\n",
    "    \"Kota Jakarta Utara\",\n",
    "    \"Kab. Kepulauan Seribu\"\n",
    "]\n",
    "\n",
    "school_capacities = np.zeros(len(city_name))\n",
    "\n",
    "for index_non_academic_profiles_values in range( len(non_academic_profiles_values) ) :\n",
    "    \n",
    "    for index_city_name in range( len(city_name) ) :\n",
    "    \n",
    "        if non_academic_profiles_values[index_non_academic_profiles_values][7] == city_name[index_city_name] :\n",
    "            \n",
    "            capacity = non_academic_profiles_values[index_non_academic_profiles_values][11]\n",
    "            school_capacities[index_city_name] += capacity\n",
    "            \n",
    "            \n",
    "for index_show_capacities in range( len(city_name) ) :\n",
    "    print(f\"\\n{city_name[index_show_capacities]} : {school_capacities[index_show_capacities]} Students\")\n",
    "print(f\"\\n\\nTotal : {sum(school_capacities)} Students\")"
   ]
  },
  {
   "cell_type": "markdown",
   "metadata": {},
   "source": [
    "<br>\n",
    "<br>\n",
    "<ul><li><h4>Determine The Percentage Of Non-Academic Students In Each Administrative City</h4></li></ul>"
   ]
  },
  {
   "cell_type": "code",
   "execution_count": null,
   "metadata": {},
   "outputs": [],
   "source": [
    "print(\"\\n[ Determine The Percentage Of Non-Academic Students In Each Administrative City ]\")\n",
    "\n",
    "city_percentage = np.zeros(len(city_name))\n",
    "\n",
    "for index_city_percentage in range( len(school_capacities) ) :\n",
    "    \n",
    "    percentage = ( school_capacities[index_city_percentage] / sum(school_capacities) ) * 100\n",
    "    city_percentage[index_city_percentage] += percentage\n",
    "    \n",
    "    print(f\"\\n{city_name[index_city_percentage]} : {city_percentage[index_city_percentage]} %\")\n",
    "    \n",
    "    city_name[index_city_percentage] += f\" {percentage}\"[0:7]+\" %\""
   ]
  },
  {
   "cell_type": "markdown",
   "metadata": {},
   "source": [
    "<br>\n",
    "<br>\n",
    "<ul><li><h4>Plots Of Non-Academic Students In Each Administrative City ( Bar, Line & Scatter Chart )</h4></li></ul>"
   ]
  },
  {
   "cell_type": "code",
   "execution_count": null,
   "metadata": {},
   "outputs": [],
   "source": [
    "print(\"\\n\\n\\n         [ Plots Of Non-Academic Students In Each Administrative City ( Bar, Line & Scatter Chart ) ]\\n\\n\")\n",
    "\n",
    "plt.barh(city_name, school_capacities, color=[\"#1E88E5\"])\n",
    "plt.plot(school_capacities, city_name, color=\"blue\")\n",
    "plt.scatter(school_capacities, city_name, color=\"black\")\n",
    "plt.show()"
   ]
  },
  {
   "cell_type": "markdown",
   "metadata": {},
   "source": [
    "<br>\n",
    "<br>\n",
    "<ul><li><h4>Plots Of Non-Academic Students In Each Administrative City ( Pie Charts )</h4></li></ul>"
   ]
  },
  {
   "cell_type": "code",
   "execution_count": null,
   "metadata": {
    "scrolled": true
   },
   "outputs": [],
   "source": [
    "print(\"\\n\\n\\n   [  Plots Of Non-Academic Students In Each Administrative City ( Pie Charts )  ]\\n\\n\")\n",
    "for index_plot in range( len(city_name) ) :\n",
    "    print(f\"\\n\\n                     [ {city_name[index_plot]} ] \\n\")\n",
    "    \n",
    "    explode = np.zeros(len(city_name))\n",
    "    for index_explode in range( len(explode) ) :\n",
    "        if index_plot == index_explode :\n",
    "            if index_explode == 4 :\n",
    "                explode[index_explode] += 1.2\n",
    "            else :\n",
    "                explode[index_explode] += 0.5\n",
    "    \n",
    "    plt.pie(school_capacities, labels = city_name, explode = explode, shadow = True, startangle = 0)\n",
    "    plt.show()\n",
    "    print(\"\\n\\n\\n\")"
   ]
  },
  {
   "cell_type": "markdown",
   "metadata": {},
   "source": [
    "<br>\n",
    "<br>\n",
    "<ul><li><h4>Retrieve Datas From Each Administrative City</h4></li></ul>"
   ]
  },
  {
   "cell_type": "code",
   "execution_count": null,
   "metadata": {},
   "outputs": [],
   "source": [
    "non_academic_csv_location = \"datasets/smp/prestasi_non-akademik/participants/\"\n",
    "\n",
    "school_datas = []\n",
    "\n",
    "for index_school_datas in os.listdir(non_academic_csv_location) :\n",
    "    \n",
    "    read_csv_students = pd.read_csv(non_academic_csv_location + index_school_datas, sep=\",\", index_col=0)\n",
    "    \n",
    "    read_csv_students_values = read_csv_students.values\n",
    "    \n",
    "    school_student_values = []\n",
    "    \n",
    "    for index_school_student_values in read_csv_students_values :\n",
    "        school_student_values.append(\n",
    "            index_school_student_values[1]\n",
    "        )\n",
    "    \n",
    "    school_name = index_school_datas[0:len(index_school_datas)-len(\".csv\")]\n",
    "    sum_value   = sum(school_student_values)\n",
    "    \n",
    "    # get school location\n",
    "    \n",
    "    for index_academic_profiles_values in non_academic_profiles_values :\n",
    "        \n",
    "        if index_academic_profiles_values[1] == school_name :\n",
    "            \n",
    "            location_school = index_academic_profiles_values[7]\n",
    "            break\n",
    "            \n",
    "        else :\n",
    "            pass\n",
    "    \n",
    "    print(f\"max : {max(school_student_values)}\").__value__\n",
    "    \n",
    "    school_datas.append({\n",
    "        \n",
    "        \"school_name\"     : school_name,\n",
    "        \"location_school\" : location_school,\n",
    "        \"max_value\"       : f\"{max(school_student_values)}\",\n",
    "        \"min_value\"       : f\"{max(school_student_values)}\",\n",
    "        \"sum_value\"       : sum_value\n",
    "        \n",
    "    })\n",
    "    \n",
    "pd.DataFrame(school_datas)"
   ]
  },
  {
   "cell_type": "code",
   "execution_count": null,
   "metadata": {},
   "outputs": [],
   "source": []
  }
 ],
 "metadata": {
  "kernelspec": {
   "display_name": "Python 3",
   "language": "python",
   "name": "python3"
  },
  "language_info": {
   "codemirror_mode": {
    "name": "ipython",
    "version": 3
   },
   "file_extension": ".py",
   "mimetype": "text/x-python",
   "name": "python",
   "nbconvert_exporter": "python",
   "pygments_lexer": "ipython3",
   "version": "3.9.13"
  }
 },
 "nbformat": 4,
 "nbformat_minor": 4
}
